{
 "cells": [
  {
   "cell_type": "markdown",
   "metadata": {},
   "source": [
    "# Python Basics"
   ]
  },
  {
   "cell_type": "markdown",
   "metadata": {},
   "source": [
    "#### Edit the function definition of the add function to return the sum of a and b."
   ]
  },
  {
   "cell_type": "code",
   "execution_count": null,
   "metadata": {},
   "outputs": [],
   "source": [
    "def add(a, b):\n",
    "    \"Return the sum of a and b\"\n",
    "    \"*** YOUR CODE HERE ***\"\n",
    "    return 0"
   ]
  },
  {
   "cell_type": "markdown",
   "metadata": {},
   "source": [
    "#### Fill in the buyLotsOfFruit(orderList) function to take a list of (fruit,pound) tuples and returns the cost of your list. If there is some fruit in the list which doesn't appear in fruitPrices it should print an error message and return None. "
   ]
  },
  {
   "cell_type": "code",
   "execution_count": null,
   "metadata": {},
   "outputs": [],
   "source": [
    "fruitPrices = {'apples':2.00, 'oranges': 1.50, 'pears': 1.75,\n",
    "              'limes':0.75, 'strawberries':1.00}\n",
    "\n",
    "def buyLotsOfFruit(orderList):\n",
    "    \"\"\"\n",
    "        orderList: List of (fruit, numPounds) tuples\n",
    "            \n",
    "    Returns cost of order\n",
    "    \"\"\" \n",
    "    totalCost = 0.0             \n",
    "    \"*** YOUR CODE HERE ***\"\n",
    "    totalCost = 0.0            \n",
    "    \"*** YOUR CODE HERE ***\"\n",
    "    \n",
    "    return totalCost\n",
    "    "
   ]
  },
  {
   "cell_type": "code",
   "execution_count": null,
   "metadata": {},
   "outputs": [],
   "source": [
    "orderList = [ ('apples', 2.0), ('pears', 3.0), ('limes', 4.0) ]\n",
    "print ('Cost of', orderList, 'is', buyLotsOfFruit(orderList))"
   ]
  },
  {
   "cell_type": "code",
   "execution_count": null,
   "metadata": {},
   "outputs": [],
   "source": [
    "orderList = [ ('avpc', 2.0), ('pears', 3.0), ('limes', 4.0) ]\n",
    "print ('Cost of', orderList, 'is', buyLotsOfFruit(orderList))"
   ]
  },
  {
   "cell_type": "markdown",
   "metadata": {},
   "source": [
    "#### Fill in the function shopSmart(orders,shops), which takes an orderList (like the kind passed in to buyLotsOfFruit) and a list of FruitShop and returns the FruitShop where your order costs the least amount in total. Note that we will provide the shop.py implementation as a \"support\" file, so you don't need to submit yours."
   ]
  },
  {
   "cell_type": "code",
   "execution_count": null,
   "metadata": {},
   "outputs": [],
   "source": [
    "import shop\n",
    "\n",
    "def shopSmart(orderList, fruitShops):\n",
    "    \"\"\"\n",
    "        orderList: List of (fruit, numPound) tuples\n",
    "        fruitShops: List of FruitShops\n",
    "    \"\"\"   \n",
    "    return bestShop\n",
    "    \n",
    "\n",
    "    \n",
    "if __name__ == '__main__':\n",
    "  \"This code runs when you invoke the script from the command line\"\n",
    "  orders = [('apples',1.0), ('oranges',3.0)]\n",
    "  dir1 = {'apples': 2.0, 'oranges':1.0}\n",
    "  shop1 =  shop.FruitShop('shop1',dir1)\n",
    "  dir2 = {'apples': 1.0, 'oranges': 5.0}\n",
    "  shop2 = shop.FruitShop('shop2',dir2)\n",
    "  shops = [shop1, shop2]\n",
    "  print (\"For orders \", orders, \", the best shop is\", shopSmart(orders, shops).getName())\n",
    "  orders = [('apples',3.0)]\n",
    "  print (\"For orders: \", orders, \", the best shop is\", shopSmart(orders, shops).getName())"
   ]
  },
  {
   "cell_type": "markdown",
   "metadata": {},
   "source": [
    "## Numpy Basics"
   ]
  },
  {
   "cell_type": "markdown",
   "metadata": {},
   "source": [
    "### Import the Numpy package"
   ]
  },
  {
   "cell_type": "code",
   "execution_count": null,
   "metadata": {},
   "outputs": [],
   "source": [
    "# *** YOUR CODE HERE ***\n",
    "\n",
    "# *** YOUR CODE HERE ***"
   ]
  },
  {
   "cell_type": "markdown",
   "metadata": {},
   "source": [
    "### Convert a 1D array to a 2D matrix"
   ]
  },
  {
   "cell_type": "code",
   "execution_count": null,
   "metadata": {},
   "outputs": [],
   "source": [
    "A = np.array([1,2,3,4,5,6])\n",
    "# *** YOUR CODE HERE ***\n",
    "\n",
    "# *** YOUR CODE HERE ***"
   ]
  },
  {
   "cell_type": "markdown",
   "metadata": {},
   "source": [
    "### Given a N-D array A, convert it into an 1-D Array"
   ]
  },
  {
   "cell_type": "code",
   "execution_count": null,
   "metadata": {},
   "outputs": [],
   "source": [
    "A = np.array([[1,2], [3,4], [5,6]])\n",
    "# *** YOUR CODE HERE ***\n",
    "\n",
    "# *** YOUR CODE HERE ***"
   ]
  },
  {
   "cell_type": "markdown",
   "metadata": {},
   "source": [
    "### Create two Matrices A and B of size 5X6 and 6X5 respectively, and perform the dot product on them."
   ]
  },
  {
   "cell_type": "code",
   "execution_count": null,
   "metadata": {},
   "outputs": [],
   "source": [
    "A = # initialize matrix A\n",
    "B = # initialze matrix B\n",
    "dot_product = # perform the dot product"
   ]
  },
  {
   "cell_type": "markdown",
   "metadata": {},
   "source": [
    "### Find the maximum value present in each row of Matrix A created in the previous question."
   ]
  },
  {
   "cell_type": "code",
   "execution_count": null,
   "metadata": {},
   "outputs": [],
   "source": [
    "# *** YOUR CODE HERE ***\n",
    "\n",
    "# *** YOUR CODE HERE ***"
   ]
  },
  {
   "cell_type": "markdown",
   "metadata": {},
   "source": [
    "### Given a 4X4 matrix pad zeros to it, converting it to a 5X5 matrix"
   ]
  },
  {
   "cell_type": "code",
   "execution_count": null,
   "metadata": {},
   "outputs": [],
   "source": [
    "A = np.ones((4,4))\n",
    "# *** YOUR CODE HERE ***\n",
    "\n",
    "# *** YOUR CODE HERE ***"
   ]
  },
  {
   "cell_type": "markdown",
   "metadata": {},
   "source": [
    "### Multiply the Matrix from previous question with a scalar 2"
   ]
  },
  {
   "cell_type": "code",
   "execution_count": null,
   "metadata": {},
   "outputs": [],
   "source": [
    "# *** YOUR CODE HERE ***\n",
    "\n",
    "# *** YOUR CODE HERE ***"
   ]
  },
  {
   "cell_type": "markdown",
   "metadata": {},
   "source": [
    "### Perform element-wise multiplication Matrices A and B"
   ]
  },
  {
   "cell_type": "code",
   "execution_count": null,
   "metadata": {},
   "outputs": [],
   "source": [
    "A = np.asarray([[2,1,2,1],[1,2,1,2]])\n",
    "B = np.asarray([[1,2,3,4],[1,2,3,4]])\n",
    "# *** YOUR CODE HERE ***\n",
    "\n",
    "# *** YOUR CODE HERE ***"
   ]
  },
  {
   "cell_type": "code",
   "execution_count": null,
   "metadata": {},
   "outputs": [],
   "source": []
  }
 ],
 "metadata": {
  "kernelspec": {
   "display_name": "Python 3",
   "language": "python",
   "name": "python3"
  },
  "language_info": {
   "codemirror_mode": {
    "name": "ipython",
    "version": 3
   },
   "file_extension": ".py",
   "mimetype": "text/x-python",
   "name": "python",
   "nbconvert_exporter": "python",
   "pygments_lexer": "ipython3",
   "version": "3.8.7"
  }
 },
 "nbformat": 4,
 "nbformat_minor": 4
}
