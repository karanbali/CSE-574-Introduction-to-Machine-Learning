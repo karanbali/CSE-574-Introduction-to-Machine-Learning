{
 "cells": [
  {
   "cell_type": "markdown",
   "metadata": {},
   "source": [
    "Edit the function definition of the add function to return the sum of a and b."
   ]
  },
  {
   "cell_type": "code",
   "execution_count": 1,
   "metadata": {},
   "outputs": [],
   "source": [
    "def add(a, b):\n",
    "    \"Return the sum of a and b\"\n",
    "    \"*** YOUR CODE HERE ***\"\n",
    "    return 0"
   ]
  },
  {
   "cell_type": "code",
   "execution_count": 2,
   "metadata": {},
   "outputs": [],
   "source": [
    "def add(a, b):\n",
    "    \"Return the sum of a and b\"\n",
    "    ##your code here so that the output in the following format\n",
    "    print(\"Passed a = %s and b = %s, returning a + b = %s\" % (a, b, a + b))\n",
    "    return a+b"
   ]
  },
  {
   "cell_type": "code",
   "execution_count": 3,
   "metadata": {},
   "outputs": [
    {
     "name": "stdout",
     "output_type": "stream",
     "text": [
      "Passed a = 3 and b = 8, returning a + b = 11\n"
     ]
    },
    {
     "data": {
      "text/plain": [
       "11"
      ]
     },
     "execution_count": 3,
     "metadata": {},
     "output_type": "execute_result"
    }
   ],
   "source": [
    "add(3,8)"
   ]
  },
  {
   "cell_type": "markdown",
   "metadata": {},
   "source": [
    "Fill in the buyLotsOfFruit(orderList) function to take a list of (fruit,pound) tuples and returns the cost of your list. If there is some fruit in the list which doesn't appear in fruitPrices it should print an error message and return None. "
   ]
  },
  {
   "cell_type": "code",
   "execution_count": 4,
   "metadata": {},
   "outputs": [],
   "source": [
    "fruitPrices = {'apples':2.00, 'oranges': 1.50, 'pears': 1.75,\n",
    "              'limes':0.75, 'strawberries':1.00}\n",
    "\n",
    "def buyLotsOfFruit(orderList):\n",
    "    \"\"\"\n",
    "        orderList: List of (fruit, numPounds) tuples\n",
    "            \n",
    "    Returns cost of order\n",
    "    \"\"\" \n",
    "    totalCost = 0.0             \n",
    "    \"*** YOUR CODE HERE ***\"\n",
    "    totalCost = 0.0            \n",
    "    \"*** YOUR CODE HERE ***\"\n",
    "    \n",
    "    for fruit, pounds in orderList:\n",
    "        if fruit not in fruitPrices.keys():\n",
    "            print ('ERROR: invalid fruit -', fruit)\n",
    "            return None\n",
    "        totalCost += fruitPrices[fruit] * pounds\n",
    "    return totalCost\n",
    "    "
   ]
  },
  {
   "cell_type": "code",
   "execution_count": 5,
   "metadata": {
    "scrolled": true
   },
   "outputs": [
    {
     "name": "stdout",
     "output_type": "stream",
     "text": [
      "Cost of [('apples', 2.0), ('pears', 3.0), ('limes', 4.0)] is 12.25\n"
     ]
    }
   ],
   "source": [
    "orderList = [ ('apples', 2.0), ('pears', 3.0), ('limes', 4.0) ]\n",
    "print ('Cost of', orderList, 'is', buyLotsOfFruit(orderList))"
   ]
  },
  {
   "cell_type": "code",
   "execution_count": 6,
   "metadata": {},
   "outputs": [
    {
     "name": "stdout",
     "output_type": "stream",
     "text": [
      "ERROR: invalid fruit - avpc\n",
      "Cost of [('avpc', 2.0), ('pears', 3.0), ('limes', 4.0)] is None\n"
     ]
    }
   ],
   "source": [
    "orderList = [ ('avpc', 2.0), ('pears', 3.0), ('limes', 4.0) ]\n",
    "print ('Cost of', orderList, 'is', buyLotsOfFruit(orderList))"
   ]
  },
  {
   "cell_type": "markdown",
   "metadata": {},
   "source": [
    "Fill in the function shopSmart(orders,shops), which takes an orderList (like the kind passed in to buyLotsOfFruit) and a list of FruitShop and returns the FruitShop where your order costs the least amount in total. Don't change the file name or variable names, please. Note that we will provide the shop.py implementation as a \"support\" file, so you don't need to submit yours."
   ]
  },
  {
   "cell_type": "code",
   "execution_count": 7,
   "metadata": {
    "scrolled": true
   },
   "outputs": [
    {
     "name": "stdout",
     "output_type": "stream",
     "text": [
      "Welcome to shop1 fruit shop\n",
      "Welcome to shop2 fruit shop\n",
      "For orders  [('apples', 1.0), ('oranges', 3.0)] , the best shop is shop1\n",
      "For orders:  [('apples', 3.0)] , the best shop is shop2\n"
     ]
    }
   ],
   "source": [
    "import shop\n",
    "\n",
    "def shopSmart(orderList, fruitShops):\n",
    "    \"\"\"\n",
    "        orderList: List of (fruit, numPound) tuples\n",
    "        fruitShops: List of FruitShops\n",
    "    \"\"\"   \n",
    "    bestShop = fruitShops[0]\n",
    "    lowestCost = bestShop.getPriceOfOrder(orderList)\n",
    "    \n",
    "    for shop in fruitShops[1:]:\n",
    "        cost = shop.getPriceOfOrder(orderList)\n",
    "        if cost < lowestCost:\n",
    "            bestShop = shop\n",
    "            lowestCost = cost\n",
    "    \n",
    "    return bestShop\n",
    "    \n",
    "\n",
    "    \n",
    "if __name__ == '__main__':\n",
    "  \"This code runs when you invoke the script from the command line\"\n",
    "  orders = [('apples',1.0), ('oranges',3.0)]\n",
    "  dir1 = {'apples': 2.0, 'oranges':1.0}\n",
    "  shop1 =  shop.FruitShop('shop1',dir1)\n",
    "  dir2 = {'apples': 1.0, 'oranges': 5.0}\n",
    "  shop2 = shop.FruitShop('shop2',dir2)\n",
    "  shops = [shop1, shop2]\n",
    "  print (\"For orders \", orders, \", the best shop is\", shopSmart(orders, shops).getName())\n",
    "  orders = [('apples',3.0)]\n",
    "  print (\"For orders: \", orders, \", the best shop is\", shopSmart(orders, shops).getName())"
   ]
  },
  {
   "cell_type": "markdown",
   "metadata": {},
   "source": [
    "## Numpy Basics"
   ]
  },
  {
   "cell_type": "markdown",
   "metadata": {},
   "source": [
    "### Import the Numpy package"
   ]
  },
  {
   "cell_type": "code",
   "execution_count": 8,
   "metadata": {},
   "outputs": [],
   "source": [
    "# *** YOUR CODE HERE ***\n",
    "import numpy as np\n",
    "# *** YOUR CODE HERE ***"
   ]
  },
  {
   "cell_type": "markdown",
   "metadata": {},
   "source": [
    "### Convert a 1D array to a 2D matrix"
   ]
  },
  {
   "cell_type": "code",
   "execution_count": 9,
   "metadata": {},
   "outputs": [
    {
     "name": "stdout",
     "output_type": "stream",
     "text": [
      "[[1 2]\n",
      " [3 4]\n",
      " [5 6]]\n",
      "[[1 2]\n",
      " [3 4]\n",
      " [5 6]]\n"
     ]
    }
   ],
   "source": [
    "A = np.array([1,2,3,4,5,6])\n",
    "A = A.reshape((3,2))\n",
    "print(A)\n",
    "\n",
    "# OR\n",
    "\n",
    "A = np.array([1,2,3,4,5,6])\n",
    "A = np.reshape(A, (3,2))\n",
    "print(A)"
   ]
  },
  {
   "cell_type": "markdown",
   "metadata": {},
   "source": [
    "### Given a N-D array A, convert it into an 1-D Array"
   ]
  },
  {
   "cell_type": "code",
   "execution_count": 10,
   "metadata": {},
   "outputs": [
    {
     "data": {
      "text/plain": [
       "array([1, 2, 3, 4, 5, 6])"
      ]
     },
     "execution_count": 10,
     "metadata": {},
     "output_type": "execute_result"
    }
   ],
   "source": [
    "A = np.array([[1,2], [3,4], [5,6]])\n",
    "A.flatten()"
   ]
  },
  {
   "cell_type": "markdown",
   "metadata": {},
   "source": [
    "### Create two Matrices A and B of size 5X6 and 6X5 respectively filled with random values, and perform the dot product on them."
   ]
  },
  {
   "cell_type": "code",
   "execution_count": 11,
   "metadata": {},
   "outputs": [
    {
     "name": "stdout",
     "output_type": "stream",
     "text": [
      "Matrix A\n",
      "[[0.42907002 0.77009454 0.62665904 0.85477111 0.22177287 0.33198099]\n",
      " [0.10239759 0.41339293 0.29755787 0.18867483 0.9294303  0.06504076]\n",
      " [0.28163895 0.01666879 0.85986109 0.10619952 0.53564462 0.89232318]\n",
      " [0.09578488 0.30187183 0.70286247 0.49552827 0.71666817 0.75840567]\n",
      " [0.26195517 0.53036869 0.77392337 0.363943   0.72600476 0.51209215]]\n",
      "Matrix B\n",
      "[[0.78061659 0.69198112 0.96026056 0.66886217 0.66699579]\n",
      " [0.03102515 0.11820727 0.43300889 0.02657261 0.32295631]\n",
      " [0.41960928 0.42850866 0.94180288 0.99372666 0.82437682]\n",
      " [0.02310683 0.34859281 0.17602292 0.50811418 0.88966931]\n",
      " [0.56938959 0.84499013 0.845481   0.58891565 0.58488684]\n",
      " [0.14362196 0.01828211 0.34103623 0.72392699 0.96433323]]\n",
      "Dot Product (1)\n",
      "[[0.8154894  1.14790021 1.78684768 1.73543675 2.26181393]\n",
      " [0.76052578 1.09954857 1.39878004 1.06547515 1.22129715]\n",
      " [1.01677649 1.07126548 1.86336958 2.05867527 2.17035568]\n",
      " [0.9075017  1.1953278  1.83644698 1.99341395 2.33218492]\n",
      " [1.04102355 1.32529122 2.06261033 1.94157095 2.22626041]]\n",
      "Dot Product (2)\n",
      "[[0.8154894  1.14790021 1.78684768 1.73543675 2.26181393]\n",
      " [0.76052578 1.09954857 1.39878004 1.06547515 1.22129715]\n",
      " [1.01677649 1.07126548 1.86336958 2.05867527 2.17035568]\n",
      " [0.9075017  1.1953278  1.83644698 1.99341395 2.33218492]\n",
      " [1.04102355 1.32529122 2.06261033 1.94157095 2.22626041]]\n"
     ]
    }
   ],
   "source": [
    "A = np.random.rand(5,6)\n",
    "print('Matrix A')\n",
    "print(A)\n",
    "B = np.random.rand(6,5)\n",
    "print('Matrix B')\n",
    "print(B)\n",
    "\n",
    "\n",
    "dot_product = A.dot(B)\n",
    "print('Dot Product (1)')\n",
    "print(dot_product)\n",
    "# OR\n",
    "dot_product = np.dot(A,B)\n",
    "print('Dot Product (2)')\n",
    "print(dot_product)"
   ]
  },
  {
   "cell_type": "markdown",
   "metadata": {},
   "source": [
    "### Find the maximum value present in each row of Matrix A created in the previous question."
   ]
  },
  {
   "cell_type": "code",
   "execution_count": 12,
   "metadata": {},
   "outputs": [
    {
     "name": "stdout",
     "output_type": "stream",
     "text": [
      "Matrix A\n",
      "[[0.42907002 0.77009454 0.62665904 0.85477111 0.22177287 0.33198099]\n",
      " [0.10239759 0.41339293 0.29755787 0.18867483 0.9294303  0.06504076]\n",
      " [0.28163895 0.01666879 0.85986109 0.10619952 0.53564462 0.89232318]\n",
      " [0.09578488 0.30187183 0.70286247 0.49552827 0.71666817 0.75840567]\n",
      " [0.26195517 0.53036869 0.77392337 0.363943   0.72600476 0.51209215]]\n",
      "Using amax\n",
      "[0.85477111 0.9294303  0.89232318 0.75840567 0.77392337]\n",
      "Using max\n",
      "[0.85477111 0.9294303  0.89232318 0.75840567 0.77392337]\n"
     ]
    }
   ],
   "source": [
    "# *** YOUR CODE HERE ***\n",
    "print('Matrix A')\n",
    "print(A)\n",
    "\n",
    "print('Using amax')\n",
    "print(np.amax(A,1))\n",
    "# OR\n",
    "print('Using max')\n",
    "print(np.max(A,1))\n",
    "# *** YOUR CODE HERE ***"
   ]
  },
  {
   "cell_type": "markdown",
   "metadata": {},
   "source": [
    "### Given a 4X4 matrix pad zeros to it, converting it to a 5X5 matrix"
   ]
  },
  {
   "cell_type": "code",
   "execution_count": 13,
   "metadata": {},
   "outputs": [
    {
     "data": {
      "text/plain": [
       "array([[0., 0., 0., 0., 0., 0.],\n",
       "       [0., 1., 1., 1., 1., 0.],\n",
       "       [0., 1., 1., 1., 1., 0.],\n",
       "       [0., 1., 1., 1., 1., 0.],\n",
       "       [0., 1., 1., 1., 1., 0.],\n",
       "       [0., 0., 0., 0., 0., 0.]])"
      ]
     },
     "execution_count": 13,
     "metadata": {},
     "output_type": "execute_result"
    }
   ],
   "source": [
    "import numpy as np\n",
    "A = np.ones((4,4))\n",
    "A = np.pad(A, (1, 1), 'constant')\n",
    "A"
   ]
  },
  {
   "cell_type": "markdown",
   "metadata": {},
   "source": [
    "### Multiply the Matrix from previous question with a scalar 2"
   ]
  },
  {
   "cell_type": "code",
   "execution_count": 14,
   "metadata": {},
   "outputs": [
    {
     "data": {
      "text/plain": [
       "array([[0., 0., 0., 0., 0., 0.],\n",
       "       [0., 2., 2., 2., 2., 0.],\n",
       "       [0., 2., 2., 2., 2., 0.],\n",
       "       [0., 2., 2., 2., 2., 0.],\n",
       "       [0., 2., 2., 2., 2., 0.],\n",
       "       [0., 0., 0., 0., 0., 0.]])"
      ]
     },
     "execution_count": 14,
     "metadata": {},
     "output_type": "execute_result"
    }
   ],
   "source": [
    "# *** YOUR CODE HERE ***\n",
    "A*2\n",
    "# *** YOUR CODE HERE ***"
   ]
  },
  {
   "cell_type": "markdown",
   "metadata": {},
   "source": [
    "### Perform element-wise multiplication Matrices A and B"
   ]
  },
  {
   "cell_type": "code",
   "execution_count": 15,
   "metadata": {},
   "outputs": [
    {
     "data": {
      "text/plain": [
       "array([[2, 2, 6, 4],\n",
       "       [1, 4, 3, 8]])"
      ]
     },
     "execution_count": 15,
     "metadata": {},
     "output_type": "execute_result"
    }
   ],
   "source": [
    "A = np.asarray([[2,1,2,1],[1,2,1,2]])\n",
    "B = np.asarray([[1,2,3,4],[1,2,3,4]])\n",
    "# *** YOUR CODE HERE ***\n",
    "np.multiply(A,B)\n",
    "# *** YOUR CODE HERE ***"
   ]
  },
  {
   "cell_type": "code",
   "execution_count": null,
   "metadata": {},
   "outputs": [],
   "source": []
  }
 ],
 "metadata": {
  "kernelspec": {
   "display_name": "Python 3",
   "language": "python",
   "name": "python3"
  },
  "language_info": {
   "codemirror_mode": {
    "name": "ipython",
    "version": 3
   },
   "file_extension": ".py",
   "mimetype": "text/x-python",
   "name": "python",
   "nbconvert_exporter": "python",
   "pygments_lexer": "ipython3",
   "version": "3.8.7"
  }
 },
 "nbformat": 4,
 "nbformat_minor": 4
}
