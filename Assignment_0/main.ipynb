{
 "cells": [
  {
   "cell_type": "markdown",
   "metadata": {},
   "source": [
    "# Python Basics"
   ]
  },
  {
   "cell_type": "markdown",
   "metadata": {},
   "source": [
    "#### Edit the function definition of the add function to return the sum of a and b."
   ]
  },
  {
   "cell_type": "code",
   "execution_count": 2,
   "metadata": {},
   "outputs": [],
   "source": [
    "def add(a, b):\n",
    "    \"Return the sum of a and b\"\n",
    "    \"*** YOUR CODE HERE ***\"\n",
    "    return a + b"
   ]
  },
  {
   "cell_type": "markdown",
   "metadata": {},
   "source": [
    "#### Fill in the buyLotsOfFruit(orderList) function to take a list of (fruit,pound) tuples and returns the cost of your list. If there is some fruit in the list which doesn't appear in fruitPrices it should print an error message and return None. "
   ]
  },
  {
   "cell_type": "code",
   "execution_count": 51,
   "metadata": {},
   "outputs": [],
   "source": [
    "fruitPrices = {'apples':2.00, 'oranges': 1.50, 'pears': 1.75,\n",
    "              'limes':0.75, 'strawberries':1.00}\n",
    "\n",
    "def buyLotsOfFruit(orderList):\n",
    "    \"\"\"\n",
    "        orderList: List of (fruit, numPounds) tuples\n",
    "            \n",
    "    Returns cost of order\n",
    "    \"\"\" \n",
    "    totalCost = 0.0             \n",
    "    \"*** YOUR CODE HERE ***\"\n",
    "    i = 0\n",
    "    while i < len(orderList):\n",
    "        try:\n",
    "            fruit_price = fruitPrices[orderList[i][0]]\n",
    "            order = orderList[i][1]\n",
    "            x_price = fruitPrices[orderList[i][0]]*orderList[i][1]\n",
    "            totalCost = totalCost + x_price\n",
    "            i = i + 1\n",
    "        except:\n",
    "            print(\"ERROR: invalid fruit\")\n",
    "            return None\n",
    "                       \n",
    "    \"*** YOUR CODE HERE ***\"\n",
    "    \n",
    "    return totalCost\n",
    "    "
   ]
  },
  {
   "cell_type": "code",
   "execution_count": 52,
   "metadata": {},
   "outputs": [
    {
     "name": "stdout",
     "output_type": "stream",
     "text": [
      "Cost of [('apples', 2.0), ('pears', 3.0), ('limes', 4.0)] is 12.25\n"
     ]
    }
   ],
   "source": [
    "orderList = [ ('apples', 2.0), ('pears', 3.0), ('limes', 4.0) ]\n",
    "print ('Cost of', orderList, 'is', buyLotsOfFruit(orderList))"
   ]
  },
  {
   "cell_type": "code",
   "execution_count": 53,
   "metadata": {},
   "outputs": [
    {
     "name": "stdout",
     "output_type": "stream",
     "text": [
      "ERROR: invalid fruit\n",
      "Cost of [('avpc', 2.0), ('pears', 3.0), ('limes', 4.0)] is None\n"
     ]
    }
   ],
   "source": [
    "orderList = [ ('avpc', 2.0), ('pears', 3.0), ('limes', 4.0) ]\n",
    "print ('Cost of', orderList, 'is', buyLotsOfFruit(orderList))"
   ]
  },
  {
   "cell_type": "markdown",
   "metadata": {},
   "source": [
    "#### Fill in the function shopSmart(orders,shops), which takes an orderList (like the kind passed in to buyLotsOfFruit) and a list of FruitShop and returns the FruitShop where your order costs the least amount in total. Note that we will provide the shop.py implementation as a \"support\" file, so you don't need to submit yours."
   ]
  },
  {
   "cell_type": "code",
   "execution_count": 54,
   "metadata": {},
   "outputs": [
    {
     "name": "stdout",
     "output_type": "stream",
     "text": [
      "Welcome to shop1 fruit shop\n",
      "Welcome to shop2 fruit shop\n",
      "For orders  [('apples', 1.0), ('oranges', 3.0)] , the best shop is shop1\n",
      "For orders:  [('apples', 3.0)] , the best shop is shop2\n"
     ]
    }
   ],
   "source": [
    "import shop\n",
    "\n",
    "def shopSmart(orderList, fruitShops):\n",
    "    \"\"\"\n",
    "        orderList: List of (fruit, numPound) tuples\n",
    "        fruitShops: List of FruitShops\n",
    "    \"\"\"\n",
    "    bestShop = None\n",
    "    best_total = None\n",
    "    \n",
    "    for x in fruitShops:\n",
    "        x_total = x.getPriceOfOrder(orderList)\n",
    "        \n",
    "        if best_total == None and bestShop == None:\n",
    "            best_total = x_total\n",
    "            bestShop = x\n",
    "            \n",
    "        if x_total < best_total:\n",
    "            best_total = x_total\n",
    "            bestShop = x\n",
    "    \n",
    "    return bestShop\n",
    "    \n",
    "\n",
    "    \n",
    "if __name__ == '__main__':\n",
    "  \"This code runs when you invoke the script from the command line\"\n",
    "  orders = [('apples',1.0), ('oranges',3.0)]\n",
    "  dir1 = {'apples': 2.0, 'oranges':1.0}\n",
    "  shop1 =  shop.FruitShop('shop1',dir1)\n",
    "  dir2 = {'apples': 1.0, 'oranges': 5.0}\n",
    "  shop2 = shop.FruitShop('shop2',dir2)\n",
    "  shops = [shop1, shop2]\n",
    "  print (\"For orders \", orders, \", the best shop is\", shopSmart(orders, shops).getName())\n",
    "  orders = [('apples',3.0)]\n",
    "  print (\"For orders: \", orders, \", the best shop is\", shopSmart(orders, shops).getName())"
   ]
  },
  {
   "cell_type": "markdown",
   "metadata": {},
   "source": [
    "## Numpy Basics"
   ]
  },
  {
   "cell_type": "markdown",
   "metadata": {},
   "source": [
    "### Import the Numpy package"
   ]
  },
  {
   "cell_type": "code",
   "execution_count": 7,
   "metadata": {},
   "outputs": [],
   "source": [
    "# *** YOUR CODE HERE ***\n",
    "import numpy as np\n",
    "# *** YOUR CODE HERE ***"
   ]
  },
  {
   "cell_type": "markdown",
   "metadata": {},
   "source": [
    "### Convert a 1D array to a 2D matrix"
   ]
  },
  {
   "cell_type": "code",
   "execution_count": 8,
   "metadata": {},
   "outputs": [],
   "source": [
    "A = np.array([1,2,3,4,5,6])\n",
    "# *** YOUR CODE HERE ***\n",
    "A_2D = np.reshape(A, (2,3))\n",
    "# *** YOUR CODE HERE ***"
   ]
  },
  {
   "cell_type": "markdown",
   "metadata": {},
   "source": [
    "### Given a N-D array A, convert it into an 1-D Array"
   ]
  },
  {
   "cell_type": "code",
   "execution_count": 9,
   "metadata": {},
   "outputs": [],
   "source": [
    "A = np.array([[1,2], [3,4], [5,6]])\n",
    "# *** YOUR CODE HERE ***\n",
    "A_1D = A.flatten()\n",
    "# *** YOUR CODE HERE ***"
   ]
  },
  {
   "cell_type": "markdown",
   "metadata": {},
   "source": [
    "### Create two Matrices A and B of size 5X6 and 6X5 respectively, and perform the dot product on them."
   ]
  },
  {
   "cell_type": "code",
   "execution_count": 10,
   "metadata": {},
   "outputs": [],
   "source": [
    "A = np.random.rand(5,6) # initialize matrix A\n",
    "B = np.random.rand(6,5) # initialze matrix B\n",
    "dot_product = np.dot(A,B) # perform the dot product"
   ]
  },
  {
   "cell_type": "markdown",
   "metadata": {},
   "source": [
    "### Find the maximum value present in each row of Matrix A created in the previous question."
   ]
  },
  {
   "cell_type": "code",
   "execution_count": 11,
   "metadata": {},
   "outputs": [],
   "source": [
    "# *** YOUR CODE HERE ***\n",
    "A_max = np.amax(A, axis = 1, keepdims=True)\n",
    "# *** YOUR CODE HERE ***"
   ]
  },
  {
   "cell_type": "markdown",
   "metadata": {},
   "source": [
    "### Given a 4X4 matrix pad zeros to it, converting it to a 5X5 matrix"
   ]
  },
  {
   "cell_type": "code",
   "execution_count": 14,
   "metadata": {},
   "outputs": [],
   "source": [
    "A = np.ones((4,4))\n",
    "# *** YOUR CODE HERE ***\n",
    "A_pad = np.pad(A, ((0, 1), (0, 1)), 'constant', constant_values=0)\n",
    "# *** YOUR CODE HERE ***"
   ]
  },
  {
   "cell_type": "markdown",
   "metadata": {},
   "source": [
    "### Multiply the Matrix from previous question with a scalar 2"
   ]
  },
  {
   "cell_type": "code",
   "execution_count": 15,
   "metadata": {},
   "outputs": [],
   "source": [
    "# *** YOUR CODE HERE ***\n",
    "A_scaled = 2*A\n",
    "A_pad_scaled = 2*A_pad\n",
    "# *** YOUR CODE HERE ***"
   ]
  },
  {
   "cell_type": "markdown",
   "metadata": {},
   "source": [
    "### Perform element-wise multiplication Matrices A and B"
   ]
  },
  {
   "cell_type": "code",
   "execution_count": 16,
   "metadata": {},
   "outputs": [],
   "source": [
    "A = np.asarray([[2,1,2,1],[1,2,1,2]])\n",
    "B = np.asarray([[1,2,3,4],[1,2,3,4]])\n",
    "# *** YOUR CODE HERE ***\n",
    "AB_multiply = np.multiply(A,B)\n",
    "# *** YOUR CODE HERE ***"
   ]
  }
 ],
 "metadata": {
  "kernelspec": {
   "display_name": "Python 3",
   "language": "python",
   "name": "python3"
  },
  "language_info": {
   "codemirror_mode": {
    "name": "ipython",
    "version": 3
   },
   "file_extension": ".py",
   "mimetype": "text/x-python",
   "name": "python",
   "nbconvert_exporter": "python",
   "pygments_lexer": "ipython3",
   "version": "3.7.4"
  }
 },
 "nbformat": 4,
 "nbformat_minor": 4
}
