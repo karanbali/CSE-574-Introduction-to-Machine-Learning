{
 "cells": [
  {
   "cell_type": "markdown",
   "metadata": {
    "id": "canadian-philadelphia"
   },
   "source": [
    "#### For this Assignment you have been given a data which is a subset of a bigger dataset which was collected by Buffalo Tax department. It contains information regarding the various properties in Buffalo.\n",
    "\n",
    "Number of Instances: 92508\n",
    "\n",
    "Number of Attributes: 16 (including the target variable)\n",
    "\n",
    "Attribute Information:\n",
    "\n",
    "| Column Name                | Description                                                                                                                                      | Type        |\n",
    "|----------------------------|--------------------------------------------------------------------------------------------------------------------------------------------------|-------------|\n",
    "| TOTAL VALUE                | The combined assessed value of the land and improvements on the parcel                                                                           | Number      |\n",
    "| FRONT                      | The width of the front of property (in feet)                                                                                                     | Number      |\n",
    "| DEPTH                      | The depth of the property (in feet)                                                                                                              | Number      |\n",
    "| PROPERTY CLASS             | Property Type Classification Codes describe the primary use of each parcel of real property on the assessment roll                               | Number      |\n",
    "| LAND VALUE                 | The assessed value of the land                                                                                                                   | Number      |\n",
    "| SALE PRICE                 | The price that the parcel of real property was last sold for                                                                                     | Number      |\n",
    "| YEAR BUILT                 | The year the primary building on the parcel was built                                                                                            | Number      |\n",
    "| TOTAL LIVING AREA          | The amount of living space (in square feet)                                                                                                      | Number      |\n",
    "| OVERALL CONDITION          | A grade of the condition of the property                                                                                                         | Number      |\n",
    "| BUILDING STYLE             | A code for the style of building                                                                                                                 | Number      |\n",
    "| HEAT TYPE                  | The type of heating system in the building (only applicable to residential properties)                                                           | Number      |\n",
    "| BASEMENT TYPE              | The type of basement on the property (only applicable to residential properties)                                                                 | Number      |\n",
    "| # OF STORIES               | The number of floors/Stories in the property                                                                                                     | Number      |\n",
    "| # OF FIREPLACES            | The number of fireplaces in a dwelling (only applicable to residential properties)                                                               | Number      |\n",
    "| # OF BEDS                  | The number of beds in a dwelling (only applicable to residential properties)                                                                     | Number      |\n",
    "| # OF BATHS                 | The number of baths in a dwelling (only applicable to residential properties)                                                                    | Number      |\n",
    "| # OF KITCHENS              | The number of kitchens in a dwelling (only applicable to residential properties)                                                                 | Number      |\n",
    "\n",
    "\n",
    "\n",
    "There are no missing Attribute Values.\n",
    "\n",
    "Your task is to implement a Linear Regression Model to predict the TOTAL VALUE of a property"
   ]
  },
  {
   "cell_type": "code",
   "execution_count": 397,
   "metadata": {
    "id": "planned-perry"
   },
   "outputs": [],
   "source": [
    "import pandas as pd\n",
    "import numpy as np\n",
    "from sklearn.model_selection import train_test_split\n",
    "import matplotlib.pyplot as plt\n",
    "\n",
    "%matplotlib inline"
   ]
  },
  {
   "cell_type": "markdown",
   "metadata": {
    "id": "traditional-tissue"
   },
   "source": [
    "#### STEP 1 - Load Data (Already Done)"
   ]
  },
  {
   "cell_type": "code",
   "execution_count": 398,
   "metadata": {
    "id": "measured-report"
   },
   "outputs": [],
   "source": [
    "df = pd.read_csv('data.csv', dtype=np.float64)"
   ]
  },
  {
   "cell_type": "code",
   "execution_count": 399,
   "metadata": {
    "id": "preliminary-wireless"
   },
   "outputs": [],
   "source": [
    "y = np.asarray(df['TOTAL VALUE'] )\n",
    "y = y.reshape(y.shape[0],1)\n",
    "feature_cols = df.columns.to_list()\n",
    "feature_cols.remove('TOTAL VALUE')\n",
    "x = np.asarray(df[feature_cols])"
   ]
  },
  {
   "cell_type": "markdown",
   "metadata": {
    "id": "available-picnic"
   },
   "source": [
    "Variable **y** contains the total values of the property\n",
    "\n",
    "Variable **x** contains the features"
   ]
  },
  {
   "cell_type": "markdown",
   "metadata": {
    "id": "twelve-skill"
   },
   "source": [
    "#### STEP 2 - Split the Data into training and testing and validation split ( 70% Training, 20% Testing and 10% validation) ( Hint: you can use the sklearn library for this step only) ( 5 Points)"
   ]
  },
  {
   "cell_type": "code",
   "execution_count": 400,
   "metadata": {
    "id": "downtown-antarctica"
   },
   "outputs": [],
   "source": [
    "#STEP 2\n",
    "\n",
    "# Train-Test Split\n",
    "x_train, x_test, y_train, y_test = train_test_split(x, y, test_size=0.20, random_state = 40)\n",
    "\n",
    "\n",
    "# Train-Validation Split\n",
    "x_train, x_val, y_train, y_val = train_test_split(x_train, y_train, test_size=0.125, random_state = 38)"
   ]
  },
  {
   "cell_type": "markdown",
   "metadata": {
    "id": "theoretical-allergy"
   },
   "source": [
    "#### STEP 3 - Scale Data Using Min Max Scaler (10 Points)\n",
    "For each feature scaled value can be calculated using $  x_{scaled} = \\frac{x - min(x)}{max(x) - min(x)}$\n"
   ]
  },
  {
   "cell_type": "code",
   "execution_count": 401,
   "metadata": {
    "id": "civilian-lounge"
   },
   "outputs": [],
   "source": [
    "#STEP 3\n",
    "\n",
    "# Scaling Training samples\n",
    "for i in range(15):\n",
    "    x_train[:,i] = (x_train[:,i] - np.amin(x_train, axis=0)[i])/(np.amax(x_train, axis=0)[i] - np.amin(x_train, axis=0)[i])\n",
    "\n",
    "# Scaling Validation samples\n",
    "for i in range(15):\n",
    "    x_val[:,i] = (x_val[:,i] - np.amin(x_val, axis=0)[i])/(np.amax(x_val, axis=0)[i] - np.amin(x_val, axis=0)[i])\n",
    "\n",
    "# Scaling Testing samples\n",
    "for i in range(15):\n",
    "    x_test[:,i] = (x_test[:,i] - np.amin(x_test, axis=0)[i])/(np.amax(x_test, axis=0)[i] - np.amin(x_test, axis=0)[i])\n",
    "    "
   ]
  },
  {
   "cell_type": "markdown",
   "metadata": {
    "id": "prostate-disney"
   },
   "source": [
    "#### STEP 4 - Initialize values for the weights, No. of Epochs and Learning Rate (5 Points)"
   ]
  },
  {
   "cell_type": "code",
   "execution_count": 402,
   "metadata": {
    "id": "absolute-associate"
   },
   "outputs": [],
   "source": [
    "#STEP 4\n",
    "\n",
    "# Initializing Weights, Epochs, learning rate\n",
    "weights = np.random.randn(16,1)\n",
    "epochs = 800\n",
    "learning_rate = 0.01\n"
   ]
  },
  {
   "cell_type": "markdown",
   "metadata": {
    "id": "moved-parking"
   },
   "source": [
    "#### STEP 5 - Train Linear Regression Model (40 Points)\n",
    " 5.1 Start a Loop For each Epoch\n",
    " \n",
    " 5.2 Find the predicted value using $ y(x,w) = w_0 + w_1x $ for the training and validation splits (10 Points)\n",
    " \n",
    " 5.3 Find the Loss using Mean Squared Error for the training and validation splits and store in a list (10 Points)\n",
    " \n",
    " 5.4 Calculate the Gradients (15 Points)\n",
    " \n",
    " 5.5 Update the weights using the gradients (5 Points)"
   ]
  },
  {
   "cell_type": "code",
   "execution_count": 403,
   "metadata": {
    "id": "alleged-diary"
   },
   "outputs": [],
   "source": [
    "# STEP 5\n",
    "\n",
    "# Initializing placeholders for noting training & validation loss\n",
    "loss_train = []\n",
    "loss_val = []\n",
    "\n",
    "# For loop to iterate and implement 'Gradient Descent Algorithm' \n",
    "for i in range(epochs):\n",
    "     \n",
    "    \n",
    "    # Calculate Mean Squared error for the given epoch on training samples & append it to the list\n",
    "    MSE_train = np.power(np.sum(x_train.dot(weights[1:]) + weights[0] - y_train),2)/y_train.shape[0]\n",
    "    loss_train.append(MSE_train)\n",
    "    \n",
    "    # Calculate Mean Squared error for the given epoch on validation samples & append it to the list\n",
    "    MSE_val = np.power(np.sum(x_test.dot(weights[1:]) + weights[0] - y_test),2)/y_test.shape[0]\n",
    "    loss_val.append(MSE_val)\n",
    "        \n",
    "    # Calculate gradient for coefficients except 'weights[0]' (bias term)\n",
    "    delta = 2/y_train.shape[0] * x_train.T.dot(x_train.dot(weights[1:]) + weights[0] - y_train)\n",
    "    \n",
    "    # Update weights according to calculated gradient [update for 'weights[0]' (bias term) is different]\n",
    "    weights[1:] = weights[1:] - learning_rate * delta\n",
    "    weights[0] = weights[0] - learning_rate * 2/y_train.shape[0] * np.sum(x_train.dot(weights[1:]) + weights[0] - y_train)\n",
    "    \n",
    "    "
   ]
  },
  {
   "cell_type": "markdown",
   "metadata": {
    "id": "fuzzy-prairie"
   },
   "source": [
    "#### STEP 6 - Evaluate the Model ( 25 Points)\n",
    "6.1 Plot a graph of the Training and Validation Loss wrt epochs (10 Points)\n",
    "\n",
    "6.2 Find the R2 Score of the trained model for the Train, Test and Validation splits (15 Points)"
   ]
  },
  {
   "cell_type": "code",
   "execution_count": 404,
   "metadata": {
    "id": "outstanding-jewel"
   },
   "outputs": [
    {
     "data": {
      "image/png": "[encoded data removed]",
      "text/plain": [
       "<Figure size 432x288 with 1 Axes>"
      ]
     },
     "metadata": {
      "needs_background": "light"
     },
     "output_type": "display_data"
    },
    {
     "name": "stdout",
     "output_type": "stream",
     "text": [
      "R2 score on training samples: {} 0.8347717436863624\n",
      "R2 score on validation samples: {} 0.3708724159210596\n",
      "R2 score on test samples: {} 0.8266049558383207\n"
     ]
    }
   ],
   "source": [
    "# STEP 6\n",
    "\n",
    "# Plotting the previously gathered loss functions for training & testing samples\n",
    "epochs = range(1, len(loss_train) + 1)\n",
    "plt.plot(epochs, loss_train, 'b-')\n",
    "plt.plot(epochs, loss_val, 'r--')\n",
    "plt.legend(['Training Loss', 'Validation Loss'])\n",
    "plt.xlabel('Epoch')\n",
    "plt.ylabel('Loss')\n",
    "plt.show()\n",
    "\n",
    "\n",
    "\n",
    "# Calculating mean of target variable for training, validation & test samples\n",
    "y_mean = np.sum(y_train)/y_train.shape[0]\n",
    "y_mean_val = np.sum(y_val)/y_val.shape[0]\n",
    "y_mean_test = np.sum(y_test)/y_test.shape[0]\n",
    "\n",
    "# Calculating R2 Score of the trained model for the training data\n",
    "ss_t = np.sum(np.power((y_train - y_mean),2))\n",
    "ss_res = np.sum(np.power(np.sum(x_train.dot(weights[1:]) + weights[0] - y_train),2))\n",
    "r2_score = 1 - (ss_res/ss_t)\n",
    "\n",
    "# Calculating R2 Score of the trained model for the validation data\n",
    "ss_t_val = np.sum(np.power((y_val - y_mean_val),2))\n",
    "ss_res_val = np.sum(np.power(np.sum(x_val.dot(weights[1:]) + weights[0] - y_val),2))\n",
    "r2_score_val = 1 - (ss_res_val/ss_t_val)\n",
    "\n",
    "# Calculating R2 Score of the trained model for the test data\n",
    "ss_t_test = np.sum(np.power((y_test - y_mean_test),2))\n",
    "ss_res_test = np.sum(np.power(np.sum(x_test.dot(weights[1:]) + weights[0] - y_test),2))\n",
    "r2_score_test = 1 - (ss_res_test/ss_t_test)\n",
    "\n",
    "print(\"R2 score on training samples: {}\",r2_score)\n",
    "print(\"R2 score on validation samples: {}\",r2_score_val)\n",
    "print(\"R2 score on test samples: {}\",r2_score_test)"
   ]
  },
  {
   "cell_type": "code",
   "execution_count": null,
   "metadata": {},
   "outputs": [],
   "source": []
  }
 ],
 "metadata": {
  "colab": {
   "name": "main.ipynb",
   "provenance": []
  },
  "kernelspec": {
   "display_name": "Python 3",
   "language": "python",
   "name": "python3"
  },
  "language_info": {
   "codemirror_mode": {
    "name": "ipython",
    "version": 3
   },
   "file_extension": ".py",
   "mimetype": "text/x-python",
   "name": "python",
   "nbconvert_exporter": "python",
   "pygments_lexer": "ipython3",
   "version": "3.7.4"
  }
 },
 "nbformat": 4,
 "nbformat_minor": 5
}
